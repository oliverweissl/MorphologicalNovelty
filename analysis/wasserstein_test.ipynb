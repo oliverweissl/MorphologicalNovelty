{
 "cells": [
  {
   "cell_type": "code",
   "execution_count": 1,
   "metadata": {
    "collapsed": true
   },
   "outputs": [],
   "source": [
    "import numpy as np"
   ]
  },
  {
   "cell_type": "markdown",
   "source": [
    "## Indexing"
   ],
   "metadata": {
    "collapsed": false
   }
  },
  {
   "cell_type": "code",
   "execution_count": 35,
   "outputs": [
    {
     "data": {
      "text/plain": "array([[0, 0, 0],\n       [1, 1, 0],\n       [1, 1, 0]])"
     },
     "execution_count": 35,
     "metadata": {},
     "output_type": "execute_result"
    }
   ],
   "source": [
    "test_block = np.random.randint(0,2,(3,3))\n",
    "test_block"
   ],
   "metadata": {
    "collapsed": false
   }
  },
  {
   "cell_type": "code",
   "execution_count": 36,
   "outputs": [
    {
     "name": "stdout",
     "output_type": "stream",
     "text": [
      "3\n"
     ]
    }
   ],
   "source": [
    "print(first_idx := (test_block != 0).argmax())"
   ],
   "metadata": {
    "collapsed": false
   }
  },
  {
   "cell_type": "code",
   "execution_count": 38,
   "outputs": [
    {
     "data": {
      "text/plain": "(3, 3)"
     },
     "execution_count": 38,
     "metadata": {},
     "output_type": "execute_result"
    }
   ],
   "source": [
    "test_block.shape"
   ],
   "metadata": {
    "collapsed": false
   }
  },
  {
   "cell_type": "markdown",
   "source": [
    "x,y = int(first_idx / test_block.shape[1]), first_idx % test_block.shape[0]\n",
    "print(x,y)\n",
    "test_block[x][y]"
   ],
   "metadata": {
    "collapsed": false
   }
  },
  {
   "cell_type": "code",
   "execution_count": 42,
   "outputs": [
    {
     "data": {
      "text/plain": "array([[0, 0, 0],\n       [0, 0, 0],\n       [0, 0, 0]])"
     },
     "execution_count": 42,
     "metadata": {},
     "output_type": "execute_result"
    }
   ],
   "source": [
    "test_block = np.random.randint(0,1,(3,3))\n",
    "test_block"
   ],
   "metadata": {
    "collapsed": false
   }
  },
  {
   "cell_type": "code",
   "execution_count": 43,
   "outputs": [
    {
     "name": "stdout",
     "output_type": "stream",
     "text": [
      "0\n"
     ]
    }
   ],
   "source": [
    "print(first_idx := (test_block != 0).argmax())"
   ],
   "metadata": {
    "collapsed": false
   }
  },
  {
   "cell_type": "code",
   "execution_count": 44,
   "outputs": [
    {
     "name": "stdout",
     "output_type": "stream",
     "text": [
      "0 0\n"
     ]
    },
    {
     "data": {
      "text/plain": "0"
     },
     "execution_count": 44,
     "metadata": {},
     "output_type": "execute_result"
    }
   ],
   "source": [
    "x,y = int(first_idx / test_block.shape[1]), first_idx % test_block.shape[0]\n",
    "print(x,y)\n",
    "test_block[x][y]"
   ],
   "metadata": {
    "collapsed": false
   }
  },
  {
   "cell_type": "markdown",
   "source": [
    "## Metric test"
   ],
   "metadata": {
    "collapsed": false
   }
  },
  {
   "cell_type": "code",
   "execution_count": 1,
   "outputs": [],
   "source": [
    "from typing import List\n",
    "from common.phenotype_framework import PhenotypeFramework as pf\n",
    "from revolve2.genotypes.cppnwin._genotype import Genotype\n",
    "from revolve2.genotypes.cppnwin.modular_robot.body_genotype_v1 import develop_v1\n",
    "\n",
    "def get_population(genotypes: List[Genotype | str]) -> List[float]:\n",
    "    \"\"\"\n",
    "    calculates novelty across population.\n",
    "    :param genotypes: List[Genotype | str] --> list of genotypes for population.\n",
    "    :param normalization: None -> no normalization | \"clipping\" -> between 0,1 | \"log\" -> log of x\n",
    "    :param test: which test to compare histograms (chi-squared, yates-chi-squared)\n",
    "    :return: List[float] novelty rate per individual\n",
    "    \"\"\"\n",
    "    amt_instances = len(genotypes)\n",
    "\n",
    "    genotypes = [genotype if not isinstance(genotype, str) else pf.deserialize(genotype) for genotype in genotypes]\n",
    "    bodies = [develop_v1(genotype) for genotype in genotypes]\n",
    "\n",
    "    coords = [pf._body_to_sorted_coordinates(body) for body in bodies]\n",
    "    coords = [pf._coordinates_pca_change_basis(coord) for coord in coords] # PCA change of basis -> orientation of variance/ covariance\n",
    "\n",
    "    brick_hists, hinge_hists = [None] * amt_instances, [None] * amt_instances\n",
    "\n",
    "    i = 0\n",
    "    for coord in coords:\n",
    "        brick_mag, brick_orient = pf._coordinates_to_magnitudes_orientation(coord[0])\n",
    "        brick_hists[i] = pf._gen_gradient_histogram(magnitudes=brick_mag,\n",
    "                                                     orientations=brick_orient)\n",
    "\n",
    "        hinge_mag, hinge_orient = pf._coordinates_to_magnitudes_orientation(coord[1])\n",
    "        hinge_hists[i] = pf._gen_gradient_histogram(magnitudes=hinge_mag,\n",
    "                                                     orientations=hinge_orient)\n",
    "        i += 1\n",
    "    return brick_hists, hinge_hists\n",
    "\n",
    "def get_novelty_population(brick_hists, hinge_hists) -> List[float]:\n",
    "    amt_instances = len(brick_hists)\n",
    "\n",
    "    brick_novelty_scores = [0] * amt_instances\n",
    "    hinge_novelty_scores = [0] * amt_instances\n",
    "    for i in range(amt_instances - 1):\n",
    "        for j in range(i + 1, amt_instances):\n",
    "            brick_score = pf._compare_hist(brick_hists[i], brick_hists[j])\n",
    "            brick_novelty_scores[i] += brick_score\n",
    "            brick_novelty_scores[j] += brick_score\n",
    "\n",
    "            hinge_score = pf._compare_hist(hinge_hists[i], hinge_hists[j])\n",
    "            hinge_novelty_scores[i] += hinge_score\n",
    "            hinge_novelty_scores[j] += hinge_score\n",
    "\n",
    "\n",
    "    novelty_scores = [(b_score + h_score) / 2\n",
    "                      for b_score, h_score in zip(brick_novelty_scores, hinge_novelty_scores)]\n",
    "\n",
    "    mscore = max(novelty_scores)\n",
    "    novelty_scores = [score/mscore if score > 0. else 0. for score in novelty_scores]\n",
    "    # scaling because the min novelty is 0 in theory --> some populations can have\n",
    "    return novelty_scores\n"
   ],
   "metadata": {
    "collapsed": false
   }
  },
  {
   "cell_type": "code",
   "execution_count": 3,
   "outputs": [],
   "source": [
    "\n",
    "import importlib\n",
    "import matplotlib.pyplot as plt\n",
    "from common import compare_histograms as ch\n",
    "import _load_db\n",
    "\n",
    "importlib.reload(_load_db)\n",
    "importlib.reload(ch)\n",
    "%matplotlib inline"
   ],
   "metadata": {
    "collapsed": false
   }
  },
  {
   "cell_type": "code",
   "execution_count": 4,
   "outputs": [],
   "source": [
    "genotypes = _load_db.load_db(\"experiments/database\", )\n",
    "selection = genotypes.serialized_multineat_genome.values"
   ],
   "metadata": {
    "collapsed": false
   }
  },
  {
   "cell_type": "code",
   "execution_count": 5,
   "outputs": [],
   "source": [
    "brick_hists, hinge_hists = get_population(selection)"
   ],
   "metadata": {
    "collapsed": false
   }
  },
  {
   "cell_type": "code",
   "execution_count": 8,
   "outputs": [
    {
     "ename": "IndexError",
     "evalue": "list index out of range",
     "output_type": "error",
     "traceback": [
      "\u001B[0;31m---------------------------------------------------------------------------\u001B[0m",
      "\u001B[0;31mIndexError\u001B[0m                                Traceback (most recent call last)",
      "Cell \u001B[0;32mIn[8], line 2\u001B[0m\n\u001B[1;32m      1\u001B[0m fig, (ax1,ax2) \u001B[38;5;241m=\u001B[39m plt\u001B[38;5;241m.\u001B[39msubplots(\u001B[38;5;241m1\u001B[39m,\u001B[38;5;241m2\u001B[39m,figsize \u001B[38;5;241m=\u001B[39m (\u001B[38;5;241m5\u001B[39m,\u001B[38;5;241m10\u001B[39m))\n\u001B[0;32m----> 2\u001B[0m ax1\u001B[38;5;241m.\u001B[39mimshow(\u001B[43mbrick_hists\u001B[49m\u001B[43m[\u001B[49m\u001B[38;5;241;43m2\u001B[39;49m\u001B[43m]\u001B[49m)\n\u001B[1;32m      3\u001B[0m ax2\u001B[38;5;241m.\u001B[39mimshow(hinge_hists[\u001B[38;5;241m2\u001B[39m])\n\u001B[1;32m      4\u001B[0m plt\u001B[38;5;241m.\u001B[39mshow()\n",
      "\u001B[0;31mIndexError\u001B[0m: list index out of range"
     ]
    },
    {
     "data": {
      "text/plain": "<Figure size 500x1000 with 2 Axes>",
      "image/png": "[encoded data removed]"
     },
     "metadata": {},
     "output_type": "display_data"
    }
   ],
   "source": [
    "for bhist, hhist in zip(brick_hists, hinge_hists):\n",
    "    fig, (ax1,ax2) = plt.subplots(1,2,figsize = (5,10))\n",
    "    ax1.imshow(bhist)\n",
    "    ax2.imshow(hhist)\n",
    "    plt.show()"
   ],
   "metadata": {
    "collapsed": false
   }
  },
  {
   "cell_type": "code",
   "execution_count": 6,
   "outputs": [
    {
     "name": "stdout",
     "output_type": "stream",
     "text": [
      "[0.7385749052809095, 0.7944115514011387, 1.0]\n"
     ]
    }
   ],
   "source": [
    "print(get_novelty_population(brick_hists, hinge_hists))"
   ],
   "metadata": {
    "collapsed": false
   }
  },
  {
   "cell_type": "code",
   "execution_count": null,
   "outputs": [],
   "source": [],
   "metadata": {
    "collapsed": false
   }
  }
 ],
 "metadata": {
  "kernelspec": {
   "display_name": "Python 3",
   "language": "python",
   "name": "python3"
  },
  "language_info": {
   "codemirror_mode": {
    "name": "ipython",
    "version": 2
   },
   "file_extension": ".py",
   "mimetype": "text/x-python",
   "name": "python",
   "nbconvert_exporter": "python",
   "pygments_lexer": "ipython2",
   "version": "2.7.6"
  }
 },
 "nbformat": 4,
 "nbformat_minor": 0
}
